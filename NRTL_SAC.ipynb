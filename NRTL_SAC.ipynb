{
 "cells": [
  {
   "cell_type": "code",
   "execution_count": 1,
   "metadata": {},
   "outputs": [],
   "source": [
    "'__author__ = Daniel Romero'\n",
    "import numpy as np\n",
    "import pandas as pd\n",
    "from matplotlib import pyplot as plt\n",
    "from scipy.optimize import fsolve, least_squares"
   ]
  },
  {
   "cell_type": "code",
   "execution_count": 2,
   "metadata": {},
   "outputs": [],
   "source": [
    "df = pd.DataFrame({'X':\n",
    "              {\n",
    "                  'Methanol':0.088, 'Acetone':0.131, 'Ethanol':0.256,\n",
    "                  '1,4-dioxane':0.154, 'Acetic acid':0.045, 'MEK':0.247,\n",
    "                  'Chloroform':0.278, 'Diethyl ether':0.448,\n",
    "                  'n-Octanol':0.766, '1,2-dichloroethane':0.394,\n",
    "                  '1,1,1-trichloroethane':0.548, 'Cyclohexane':0.000\n",
    "              },\n",
    "              'Y-':\n",
    "              {\n",
    "                  'Methanol':0.149, 'Acetone':0.109, 'Ethanol':0.081,\n",
    "                  '1,4-dioxane':0.086, 'Acetic acid':0.164, 'MEK':0.036,\n",
    "                  'Chloroform':0.000, 'Diethyl ether':0.041,\n",
    "                  'n-Octanol':0.032, '1,2-dichloroethane':0.000,\n",
    "                  '1,1,1-trichloroethane':0.000, 'Cyclohexane':0.000\n",
    "              },\n",
    "              'Y+':\n",
    "              {\n",
    "                  'Methanol':0.027, 'Acetone':0.513, 'Ethanol':0.000,\n",
    "                  '1,4-dioxane':0.401, 'Acetic acid':0.157, 'MEK':0.480,\n",
    "                  'Chloroform':0.039, 'Diethyl ether':0.165,\n",
    "                  'n-Octanol':0.624, '1,2-dichloroethane':0.691,\n",
    "                  '1,1,1-trichloroethane':0.287, 'Cyclohexane':0.000\n",
    "              },\n",
    "              'Z':\n",
    "              {\n",
    "                  'Methanol':0.562, 'Acetone':0.000, 'Ethanol':0.507,\n",
    "                  '1,4-dioxane':0.000, 'Acetic acid':0.217, 'MEK':0.000,\n",
    "                  'Chloroform':0.000, 'Diethyl ether':0.000,\n",
    "                  'n-Octanol':0.335, '1,2-dichloroethane':0.000,\n",
    "                  '1,1,1-trichloroethane':0.000, 'Cyclohexane':0.000\n",
    "              },\n",
    "              'x':\n",
    "              {\n",
    "                  'Methanol':8.053e-2, 'Acetone':1.163e-1, 'Ethanol':6.007e-2,\n",
    "                  '1,4-dioxane':1.029e-1, 'Acetic acid':4.347e-2, 'MEK':5.174e-2,\n",
    "                  'Chloroform':4.057e-2, 'Diethyl ether':2.119e-2,\n",
    "                  'n-Octanol':2.186e-2, '1,2-dichloroethane':1.67e-2,\n",
    "                  '1,1,1-trichloroethane':3.706e-3, 'Cyclohexane':2.335e-5\n",
    "              }\n",
    "             })"
   ]
  },
  {
   "cell_type": "code",
   "execution_count": 3,
   "metadata": {},
   "outputs": [],
   "source": [
    "class NRTLSAC:\n",
    "    tau = np.array([[0, 1.643, 1.643, 6.547],\n",
    "                    [1.834, 0, 0, -2],\n",
    "                    [1.834, 0, 0, 2],\n",
    "                    [10.949, 1.787, 1.787, 0]])\n",
    "    alpha = np.array([[0, 0.2, 0.2, 0.2],\n",
    "                      [0.2, 0, 0, 0.3],\n",
    "                      [0.2, 0, 0, 0.3],\n",
    "                      [0.2, 0.3, 0.3, 0]])\n",
    "    G = np.exp(-alpha*tau)\n",
    "    \n",
    "    def __init__(self, drug:dict):\n",
    "        self.drug = drug\n",
    "        #I'm going to save the information related in data as a PD.\n",
    "        if self.drug.get('data', 0):\n",
    "            self.data = self.drug['data']\n",
    "        if not self.drug.get('r', 0):\n",
    "            self.drug['r'] = [1, 1, 1, 1]\n",
    "    \n",
    "    def evaluation(self, rd, table, solvents:list=None):\n",
    "        if type(rd) is not list:\n",
    "            rd = rd.tolist()\n",
    "        Ksp = rd.pop()\n",
    "        self.table = table\n",
    "        \n",
    "        data = self.table[self.table.index != 'Drug']\n",
    "        data['ln_x'] = np.log(data.x)\n",
    "        data['rs'] = data[['X', 'Y-', 'Y+', 'Z']].to_numpy().tolist()\n",
    "        data['ln_gamma'] = data.apply(\n",
    "            lambda r: self.ln_gamma(r['x'], r['rs'], rdrug=rd), axis=1)\n",
    "        \n",
    "        data[['ln_gs', 'ln_gl']] = pd.DataFrame(data.ln_gamma.tolist(),\n",
    "                                                index=data.index)\n",
    "        data['ln_x_NRTL'] = np.log(Ksp) - data['ln_gs']\n",
    "        data['error'] = (data['ln_x'] - (np.log(Ksp) - data['ln_gs']))**2\n",
    "        return data\n",
    "    \n",
    "    def adjust(self, rd, table, solvents:list=None):\n",
    "        if type(rd) is not list:\n",
    "            rd = rd.tolist()\n",
    "        Ksp = rd.pop()\n",
    "        self.table = table\n",
    "        if solvents is not None:\n",
    "            self.rs = self._extract_rs(\n",
    "                np.array([self.drug.get('Name', 'Drug')]+\n",
    "                         solvents))\n",
    "        else:\n",
    "            data = self.table[self.table.index != 'Drug']\n",
    "            data['ln_x'] = np.log(data.x)\n",
    "            data['rs'] = data[['X', 'Y-', 'Y+', 'Z']].to_numpy().tolist()\n",
    "            data['ln_gamma'] = data.apply(\n",
    "                lambda r: self.ln_gamma(r['x'], r['rs'], rdrug=rd), axis=1)\n",
    "        data[['ln_gs', 'ln_gl']] = pd.DataFrame(data.ln_gamma.tolist(),\n",
    "                                                index=data.index)\n",
    "        data['error'] = (data['ln_x'] - (np.log(Ksp) - data['ln_gs']))**2\n",
    "        return np.sum(data.error)\n",
    "    \n",
    "    def opt_adjust(self, table):\n",
    "        initial = self.drug['r']\n",
    "        initial.append(1e-2)\n",
    "        sol = least_squares(self.adjust, initial, bounds=(0, np.inf), args=([table]))\n",
    "        return sol.x, sol.cost\n",
    "    \n",
    "    def _extract_rs(self, compounds):\n",
    "        return self.table.loc[compounds][['X', 'Y-', 'Y+', 'Z']]\n",
    "    \n",
    "    def _ln_gammaC(self, x, r=None):\n",
    "        if r is None:\n",
    "            R = self.rs[['X', 'Y-', 'Y+', 'Z']].apply(np.sum, axis=1)\n",
    "        else:\n",
    "            R = np.sum(r, axis=1)\n",
    "        phi = np.array(R * x / np.sum(R * x))\n",
    "        return np.array(np.log(phi/x)+1-R*np.sum(phi/R))\n",
    "    \n",
    "    def _xj(self, x, r=None):\n",
    "        if r is not None:\n",
    "            xj = np.sum(np.array(r)*np.array([x]).T, axis=0)\n",
    "        else:\n",
    "            xj = np.sum(np.array(self.rs)*np.array([x]).T, axis=0)\n",
    "        return xj/np.sum(xj)\n",
    "    \n",
    "    def _xjI(self, x, r=None):\n",
    "        if r is not None:\n",
    "            R = np.sum(r, axis=1)\n",
    "            return r / np.array([R]).T\n",
    "        else:\n",
    "            R = self.rs[['X', 'Y-', 'Y+', 'Z']].apply(np.sum, axis=1)\n",
    "            return np.array(self.rs[['X', 'Y-', 'Y+', 'Z']])/np.array([R]).T\n",
    "    \n",
    "    def _ln_Tlc_m(self, x, r=None):\n",
    "        xj = self._xj(x, r).T\n",
    "        first = (np.sum(self._xj(x, r).T * type(self).G * \n",
    "                       type(self).tau, axis=1)/\n",
    "                np.sum(self._xj(x, r).T * type(self).G, axis=1))\n",
    "        second = np.sum((type(self).G * self._xj(x, r)) /\n",
    "                  np.sum(self._xj(x, r).T * type(self).G, axis=1)*(\n",
    "                  type(self).tau)-first, axis=0)\n",
    "        return first + second\n",
    "    \n",
    "    def _ln_TlcI_m(self, x, r=None):\n",
    "        xjI = self._xjI(x, r).T\n",
    "        \n",
    "        first = (np.matmul((type(self).G * type(self).tau).T, xjI) /\n",
    "                 np.matmul(type(self).G.T, xjI))\n",
    "        \n",
    "        second = np.zeros((4, len(x)))\n",
    "        \n",
    "        for i in range(4):\n",
    "            m = ((type(self).tau[i:i+1] - np.matmul((type(self).G * type(self).tau).T, xjI).T\n",
    "                  / np.matmul(type(self).G.T, xjI).T) / np.matmul(type(self).G.T, xjI).T)\n",
    "            for j in range(len(x)):\n",
    "                for k in range(len(x)):\n",
    "                    second[i, j] += type(self).G[i, k] * xjI[k, j] * m[j, k]\n",
    "        return first + second\n",
    "    \n",
    "    def _ln_gammaR(self, x, r=None):\n",
    "        if r is not None:\n",
    "            return (np.matmul(np.array(r), (np.array([self._ln_Tlc_m(x, r)]).T - \n",
    "                self._ln_TlcI_m(x, r))))\n",
    "        else:\n",
    "            return (np.matmul(np.array(self.rs), (np.array([self._ln_Tlc_m(x)]).T - \n",
    "                self._ln_TlcI_m(x))))\n",
    "    \n",
    "    def ln_gamma(self, x, rs=None, rdrug = None):\n",
    "        if type(x) is not list:\n",
    "            x = np.array([x, 1-x])\n",
    "        if rs is not None:\n",
    "            if rdrug is None:\n",
    "                r = np.array([self.drug['r'], rs])\n",
    "            else:\n",
    "                rdrug = np.array(rdrug)\n",
    "                r = np.array([rdrug, rs])\n",
    "            return self._ln_gammaC(x, r) + np.sum(self._ln_gammaR(x, r), axis=1)"
   ]
  },
  {
   "cell_type": "code",
   "execution_count": 4,
   "metadata": {},
   "outputs": [],
   "source": [
    "Aspirin = NRTLSAC({'r':[0.103, 0.000, 1.160, 0.777]})"
   ]
  },
  {
   "cell_type": "code",
   "execution_count": 5,
   "metadata": {},
   "outputs": [
    {
     "data": {
      "text/plain": [
       "(array([1.09357051e+00, 4.99851561e-01, 7.67084304e-03, 1.92792048e-01,\n",
       "        1.35693501e-06]), 1163.4063801486604)"
      ]
     },
     "execution_count": 5,
     "metadata": {},
     "output_type": "execute_result"
    }
   ],
   "source": [
    "Aspirin.opt_adjust(df)"
   ]
  },
  {
   "cell_type": "code",
   "execution_count": 6,
   "metadata": {},
   "outputs": [
    {
     "name": "stdout",
     "output_type": "stream",
     "text": [
      "El RMS para el ajuste es de 4.39\n"
     ]
    }
   ],
   "source": [
    "Table = Aspirin.evaluation([1.09357051e+00, 4.99851561e-01,\n",
    "                            7.67084304e-03, 1.92792048e-01,\n",
    "                            1.35693501e-06], df)\n",
    "RMS = np.mean(Table.error)\n",
    "print(f'El RMS para el ajuste es de {RMS:.2f}')"
   ]
  },
  {
   "cell_type": "code",
   "execution_count": 7,
   "metadata": {},
   "outputs": [],
   "source": [
    "paper = np.array([7.95e-2, 1.084e-1, 3.907e-2, 1.130e-1, 1.709e-1,\n",
    "                  4.838e-2, 4.547e-2, 1.127e-2, 2.491e-2, 1.352e-2,\n",
    "                  2.743e-3, 4.962e-5])\n",
    "Table['ln_x_paper'] = np.log(paper)"
   ]
  },
  {
   "cell_type": "code",
   "execution_count": 8,
   "metadata": {},
   "outputs": [
    {
     "data": {
      "text/plain": [
       "[<matplotlib.lines.Line2D at 0x71dd463ede80>]"
      ]
     },
     "execution_count": 8,
     "metadata": {},
     "output_type": "execute_result"
    },
    {
     "data": {
      "image/png": "[encoded data removed]",
      "text/plain": [
       "<Figure size 432x288 with 1 Axes>"
      ]
     },
     "metadata": {
      "needs_background": "light"
     },
     "output_type": "display_data"
    }
   ],
   "source": [
    "plt.title('NRTL results for Aspirin solubility @298.15 K')\n",
    "plt.xlabel('$ln x_{paper}$')\n",
    "plt.ylabel('$ln x$')\n",
    "plt.plot(Table.ln_x_paper, Table.ln_x_NRTL, 'ok', ls='None')\n",
    "plt.plot([-8, 2], [-8, 2], '-k')"
   ]
  }
 ],
 "metadata": {
  "kernelspec": {
   "display_name": "Python 3",
   "language": "python",
   "name": "python3"
  },
  "language_info": {
   "codemirror_mode": {
    "name": "ipython",
    "version": 3
   },
   "file_extension": ".py",
   "mimetype": "text/x-python",
   "name": "python",
   "nbconvert_exporter": "python",
   "pygments_lexer": "ipython3",
   "version": "3.7.3"
  }
 },
 "nbformat": 4,
 "nbformat_minor": 2
}
